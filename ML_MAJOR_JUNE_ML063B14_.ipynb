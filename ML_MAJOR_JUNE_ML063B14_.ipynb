{
  "nbformat": 4,
  "nbformat_minor": 0,
  "metadata": {
    "kernelspec": {
      "display_name": "Python 3",
      "language": "python",
      "name": "python3"
    },
    "language_info": {
      "codemirror_mode": {
        "name": "ipython",
        "version": 3
      },
      "file_extension": ".py",
      "mimetype": "text/x-python",
      "name": "python",
      "nbconvert_exporter": "python",
      "pygments_lexer": "ipython3",
      "version": "3.7.6"
    },
    "colab": {
      "name": "ML-MAJOR-JUNE-ML063B14 .ipynb",
      "provenance": [],
      "include_colab_link": true
    }
  },
  "cells": [
    {
      "cell_type": "markdown",
      "metadata": {
        "id": "view-in-github",
        "colab_type": "text"
      },
      "source": [
        "<a href=\"https://colab.research.google.com/github/saikiranchetti18/Gender_Prediction/blob/main/ML_MAJOR_JUNE_ML063B14_.ipynb\" target=\"_parent\"><img src=\"https://colab.research.google.com/assets/colab-badge.svg\" alt=\"Open In Colab\"/></a>"
      ]
    },
    {
      "cell_type": "code",
      "metadata": {
        "id": "N0R5XiY1jGkq"
      },
      "source": [
        "import numpy as np \n",
        "import pandas as pd\n",
        "from datetime import datetime\n",
        "\n",
        "import matplotlib.pyplot as plt\n",
        "\n",
        "from collections import Counter\n",
        "import re\n",
        "\n",
        "from sklearn.preprocessing import LabelEncoder\n",
        "from sklearn.feature_extraction.text import CountVectorizer\n",
        "from sklearn import linear_model, metrics\n",
        "from sklearn import naive_bayes\n",
        "from sklearn import svm\n",
        "from sklearn.model_selection import train_test_split"
      ],
      "execution_count": 2,
      "outputs": []
    },
    {
      "cell_type": "code",
      "metadata": {
        "id": "2Rh8pglzjGkr"
      },
      "source": [
        "import warnings\n",
        "warnings.filterwarnings(\"ignore\")"
      ],
      "execution_count": 3,
      "outputs": []
    },
    {
      "cell_type": "code",
      "metadata": {
        "id": "WpH4VaE0jGkr"
      },
      "source": [
        "df= pd.read_csv('/content/Information.csv', encoding ='latin-1')"
      ],
      "execution_count": 5,
      "outputs": []
    },
    {
      "cell_type": "code",
      "metadata": {
        "colab": {
          "base_uri": "https://localhost:8080/",
          "height": 486
        },
        "id": "-4lO8aQ6jGks",
        "outputId": "ca5de203-cf71-499c-9844-57c4f73c04e6"
      },
      "source": [
        "df.head()"
      ],
      "execution_count": 6,
      "outputs": [
        {
          "output_type": "execute_result",
          "data": {
            "text/html": [
              "<div>\n",
              "<style scoped>\n",
              "    .dataframe tbody tr th:only-of-type {\n",
              "        vertical-align: middle;\n",
              "    }\n",
              "\n",
              "    .dataframe tbody tr th {\n",
              "        vertical-align: top;\n",
              "    }\n",
              "\n",
              "    .dataframe thead th {\n",
              "        text-align: right;\n",
              "    }\n",
              "</style>\n",
              "<table border=\"1\" class=\"dataframe\">\n",
              "  <thead>\n",
              "    <tr style=\"text-align: right;\">\n",
              "      <th></th>\n",
              "      <th>_unit_id</th>\n",
              "      <th>_golden</th>\n",
              "      <th>_unit_state</th>\n",
              "      <th>_trusted_judgments</th>\n",
              "      <th>_last_judgment_at</th>\n",
              "      <th>gender</th>\n",
              "      <th>gender:confidence</th>\n",
              "      <th>profile_yn</th>\n",
              "      <th>profile_yn:confidence</th>\n",
              "      <th>created</th>\n",
              "      <th>description</th>\n",
              "      <th>fav_number</th>\n",
              "      <th>gender_gold</th>\n",
              "      <th>link_color</th>\n",
              "      <th>name</th>\n",
              "      <th>profile_yn_gold</th>\n",
              "      <th>profileimage</th>\n",
              "      <th>retweet_count</th>\n",
              "      <th>sidebar_color</th>\n",
              "      <th>text</th>\n",
              "      <th>tweet_coord</th>\n",
              "      <th>tweet_count</th>\n",
              "      <th>tweet_created</th>\n",
              "      <th>tweet_id</th>\n",
              "      <th>tweet_location</th>\n",
              "      <th>user_timezone</th>\n",
              "    </tr>\n",
              "  </thead>\n",
              "  <tbody>\n",
              "    <tr>\n",
              "      <th>0</th>\n",
              "      <td>815719226</td>\n",
              "      <td>False</td>\n",
              "      <td>finalized</td>\n",
              "      <td>3</td>\n",
              "      <td>10/26/15 23:24</td>\n",
              "      <td>male</td>\n",
              "      <td>1.0000</td>\n",
              "      <td>yes</td>\n",
              "      <td>1.0</td>\n",
              "      <td>12/5/13 1:48</td>\n",
              "      <td>i sing my own rhythm.</td>\n",
              "      <td>0</td>\n",
              "      <td>NaN</td>\n",
              "      <td>08C2C2</td>\n",
              "      <td>sheezy0</td>\n",
              "      <td>NaN</td>\n",
              "      <td>https://pbs.twimg.com/profile_images/414342229...</td>\n",
              "      <td>0</td>\n",
              "      <td>FFFFFF</td>\n",
              "      <td>Robbie E Responds To Critics After Win Against...</td>\n",
              "      <td>NaN</td>\n",
              "      <td>110964</td>\n",
              "      <td>10/26/15 12:40</td>\n",
              "      <td>6.587300e+17</td>\n",
              "      <td>main; @Kan1shk3</td>\n",
              "      <td>Chennai</td>\n",
              "    </tr>\n",
              "    <tr>\n",
              "      <th>1</th>\n",
              "      <td>815719227</td>\n",
              "      <td>False</td>\n",
              "      <td>finalized</td>\n",
              "      <td>3</td>\n",
              "      <td>10/26/15 23:30</td>\n",
              "      <td>male</td>\n",
              "      <td>1.0000</td>\n",
              "      <td>yes</td>\n",
              "      <td>1.0</td>\n",
              "      <td>10/1/12 13:51</td>\n",
              "      <td>I'm the author of novels filled with family dr...</td>\n",
              "      <td>68</td>\n",
              "      <td>NaN</td>\n",
              "      <td>0084B4</td>\n",
              "      <td>DavdBurnett</td>\n",
              "      <td>NaN</td>\n",
              "      <td>https://pbs.twimg.com/profile_images/539604221...</td>\n",
              "      <td>0</td>\n",
              "      <td>C0DEED</td>\n",
              "      <td>ÛÏIt felt like they were my friends and I was...</td>\n",
              "      <td>NaN</td>\n",
              "      <td>7471</td>\n",
              "      <td>10/26/15 12:40</td>\n",
              "      <td>6.587300e+17</td>\n",
              "      <td>NaN</td>\n",
              "      <td>Eastern Time (US &amp; Canada)</td>\n",
              "    </tr>\n",
              "    <tr>\n",
              "      <th>2</th>\n",
              "      <td>815719228</td>\n",
              "      <td>False</td>\n",
              "      <td>finalized</td>\n",
              "      <td>3</td>\n",
              "      <td>10/26/15 23:33</td>\n",
              "      <td>male</td>\n",
              "      <td>0.6625</td>\n",
              "      <td>yes</td>\n",
              "      <td>1.0</td>\n",
              "      <td>11/28/14 11:30</td>\n",
              "      <td>louis whining and squealing and all</td>\n",
              "      <td>7696</td>\n",
              "      <td>NaN</td>\n",
              "      <td>ABB8C2</td>\n",
              "      <td>lwtprettylaugh</td>\n",
              "      <td>NaN</td>\n",
              "      <td>https://pbs.twimg.com/profile_images/657330418...</td>\n",
              "      <td>1</td>\n",
              "      <td>C0DEED</td>\n",
              "      <td>i absolutely adore when louis starts the songs...</td>\n",
              "      <td>NaN</td>\n",
              "      <td>5617</td>\n",
              "      <td>10/26/15 12:40</td>\n",
              "      <td>6.587300e+17</td>\n",
              "      <td>clcncl</td>\n",
              "      <td>Belgrade</td>\n",
              "    </tr>\n",
              "    <tr>\n",
              "      <th>3</th>\n",
              "      <td>815719229</td>\n",
              "      <td>False</td>\n",
              "      <td>finalized</td>\n",
              "      <td>3</td>\n",
              "      <td>10/26/15 23:10</td>\n",
              "      <td>male</td>\n",
              "      <td>1.0000</td>\n",
              "      <td>yes</td>\n",
              "      <td>1.0</td>\n",
              "      <td>6/11/09 22:39</td>\n",
              "      <td>Mobile guy.  49ers, Shazam, Google, Kleiner Pe...</td>\n",
              "      <td>202</td>\n",
              "      <td>NaN</td>\n",
              "      <td>0084B4</td>\n",
              "      <td>douggarland</td>\n",
              "      <td>NaN</td>\n",
              "      <td>https://pbs.twimg.com/profile_images/259703936...</td>\n",
              "      <td>0</td>\n",
              "      <td>C0DEED</td>\n",
              "      <td>Hi @JordanSpieth - Looking at the url - do you...</td>\n",
              "      <td>NaN</td>\n",
              "      <td>1693</td>\n",
              "      <td>10/26/15 12:40</td>\n",
              "      <td>6.587300e+17</td>\n",
              "      <td>Palo Alto, CA</td>\n",
              "      <td>Pacific Time (US &amp; Canada)</td>\n",
              "    </tr>\n",
              "    <tr>\n",
              "      <th>4</th>\n",
              "      <td>815719230</td>\n",
              "      <td>False</td>\n",
              "      <td>finalized</td>\n",
              "      <td>3</td>\n",
              "      <td>10/27/15 1:15</td>\n",
              "      <td>female</td>\n",
              "      <td>1.0000</td>\n",
              "      <td>yes</td>\n",
              "      <td>1.0</td>\n",
              "      <td>4/16/14 13:23</td>\n",
              "      <td>Ricky Wilson The Best FRONTMAN/Kaiser Chiefs T...</td>\n",
              "      <td>37318</td>\n",
              "      <td>NaN</td>\n",
              "      <td>3B94D9</td>\n",
              "      <td>WilfordGemma</td>\n",
              "      <td>NaN</td>\n",
              "      <td>https://pbs.twimg.com/profile_images/564094871...</td>\n",
              "      <td>0</td>\n",
              "      <td>0</td>\n",
              "      <td>Watching Neighbours on Sky+ catching up with t...</td>\n",
              "      <td>NaN</td>\n",
              "      <td>31462</td>\n",
              "      <td>10/26/15 12:40</td>\n",
              "      <td>6.587300e+17</td>\n",
              "      <td>NaN</td>\n",
              "      <td>NaN</td>\n",
              "    </tr>\n",
              "  </tbody>\n",
              "</table>\n",
              "</div>"
            ],
            "text/plain": [
              "    _unit_id  _golden  ...   tweet_location               user_timezone\n",
              "0  815719226    False  ...  main; @Kan1shk3                     Chennai\n",
              "1  815719227    False  ...              NaN  Eastern Time (US & Canada)\n",
              "2  815719228    False  ...           clcncl                    Belgrade\n",
              "3  815719229    False  ...    Palo Alto, CA  Pacific Time (US & Canada)\n",
              "4  815719230    False  ...              NaN                         NaN\n",
              "\n",
              "[5 rows x 26 columns]"
            ]
          },
          "metadata": {
            "tags": []
          },
          "execution_count": 6
        }
      ]
    },
    {
      "cell_type": "code",
      "metadata": {
        "colab": {
          "base_uri": "https://localhost:8080/"
        },
        "id": "5ajsGUyZjGks",
        "outputId": "2d057ab0-68e0-4389-8b59-b54e1e718260"
      },
      "source": [
        "df.shape"
      ],
      "execution_count": 7,
      "outputs": [
        {
          "output_type": "execute_result",
          "data": {
            "text/plain": [
              "(20050, 26)"
            ]
          },
          "metadata": {
            "tags": []
          },
          "execution_count": 7
        }
      ]
    },
    {
      "cell_type": "code",
      "metadata": {
        "colab": {
          "base_uri": "https://localhost:8080/",
          "height": 183
        },
        "id": "Hc-NgBhijGkt",
        "outputId": "aa21beec-dc74-4a43-fc20-c97d3625bb10"
      },
      "source": [
        "import matplotlib.pyplot as rcParams\n",
        "import seaborn as sns\n",
        "corre=df.corr()\n",
        "corr_features=corre.index\n",
        "plt.figure(figsize=(30,5))\n",
        "g=sns.heatmap(df[corr_features].corr(),annot=True,cmap=\"Greens\")"
      ],
      "execution_count": 8,
      "outputs": [
        {
          "output_type": "display_data",
          "data": {
            "image/png": "[encoded data removed]",
            "text/plain": [
              "<Figure size 2160x360 with 2 Axes>"
            ]
          },
          "metadata": {
            "tags": [],
            "needs_background": "light"
          }
        }
      ]
    },
    {
      "cell_type": "code",
      "metadata": {
        "colab": {
          "base_uri": "https://localhost:8080/"
        },
        "id": "XeLXxYT2jGkt",
        "outputId": "4d46bad1-4b50-40f4-a644-0fbbaaa5f869"
      },
      "source": [
        "df['gender'].value_counts()"
      ],
      "execution_count": 9,
      "outputs": [
        {
          "output_type": "execute_result",
          "data": {
            "text/plain": [
              "female     6700\n",
              "male       6194\n",
              "brand      5942\n",
              "unknown    1117\n",
              "Name: gender, dtype: int64"
            ]
          },
          "metadata": {
            "tags": []
          },
          "execution_count": 9
        }
      ]
    },
    {
      "cell_type": "raw",
      "metadata": {
        "id": "aT1zKzUmjGku"
      },
      "source": [
        "Here are 4 categories which exists in the gender feature.As this project in classifying whether the user is female, male.So we are considering only male and female.Not considering unknown category of gender and brand. Because it is lesser in count and it doesn't provide much information about the user."
      ]
    },
    {
      "cell_type": "code",
      "metadata": {
        "colab": {
          "base_uri": "https://localhost:8080/",
          "height": 486
        },
        "id": "WvvMW1vwjGku",
        "outputId": "b98a6c7b-49f9-4689-ddaa-ee45c80b6f1b"
      },
      "source": [
        "#Removing all rows which don't have gender as 'male' or 'female' \n",
        "\n",
        "df= df.loc[df['gender'].isin(['female', 'male'])]\n",
        "df.head()"
      ],
      "execution_count": 10,
      "outputs": [
        {
          "output_type": "execute_result",
          "data": {
            "text/html": [
              "<div>\n",
              "<style scoped>\n",
              "    .dataframe tbody tr th:only-of-type {\n",
              "        vertical-align: middle;\n",
              "    }\n",
              "\n",
              "    .dataframe tbody tr th {\n",
              "        vertical-align: top;\n",
              "    }\n",
              "\n",
              "    .dataframe thead th {\n",
              "        text-align: right;\n",
              "    }\n",
              "</style>\n",
              "<table border=\"1\" class=\"dataframe\">\n",
              "  <thead>\n",
              "    <tr style=\"text-align: right;\">\n",
              "      <th></th>\n",
              "      <th>_unit_id</th>\n",
              "      <th>_golden</th>\n",
              "      <th>_unit_state</th>\n",
              "      <th>_trusted_judgments</th>\n",
              "      <th>_last_judgment_at</th>\n",
              "      <th>gender</th>\n",
              "      <th>gender:confidence</th>\n",
              "      <th>profile_yn</th>\n",
              "      <th>profile_yn:confidence</th>\n",
              "      <th>created</th>\n",
              "      <th>description</th>\n",
              "      <th>fav_number</th>\n",
              "      <th>gender_gold</th>\n",
              "      <th>link_color</th>\n",
              "      <th>name</th>\n",
              "      <th>profile_yn_gold</th>\n",
              "      <th>profileimage</th>\n",
              "      <th>retweet_count</th>\n",
              "      <th>sidebar_color</th>\n",
              "      <th>text</th>\n",
              "      <th>tweet_coord</th>\n",
              "      <th>tweet_count</th>\n",
              "      <th>tweet_created</th>\n",
              "      <th>tweet_id</th>\n",
              "      <th>tweet_location</th>\n",
              "      <th>user_timezone</th>\n",
              "    </tr>\n",
              "  </thead>\n",
              "  <tbody>\n",
              "    <tr>\n",
              "      <th>0</th>\n",
              "      <td>815719226</td>\n",
              "      <td>False</td>\n",
              "      <td>finalized</td>\n",
              "      <td>3</td>\n",
              "      <td>10/26/15 23:24</td>\n",
              "      <td>male</td>\n",
              "      <td>1.0000</td>\n",
              "      <td>yes</td>\n",
              "      <td>1.0</td>\n",
              "      <td>12/5/13 1:48</td>\n",
              "      <td>i sing my own rhythm.</td>\n",
              "      <td>0</td>\n",
              "      <td>NaN</td>\n",
              "      <td>08C2C2</td>\n",
              "      <td>sheezy0</td>\n",
              "      <td>NaN</td>\n",
              "      <td>https://pbs.twimg.com/profile_images/414342229...</td>\n",
              "      <td>0</td>\n",
              "      <td>FFFFFF</td>\n",
              "      <td>Robbie E Responds To Critics After Win Against...</td>\n",
              "      <td>NaN</td>\n",
              "      <td>110964</td>\n",
              "      <td>10/26/15 12:40</td>\n",
              "      <td>6.587300e+17</td>\n",
              "      <td>main; @Kan1shk3</td>\n",
              "      <td>Chennai</td>\n",
              "    </tr>\n",
              "    <tr>\n",
              "      <th>1</th>\n",
              "      <td>815719227</td>\n",
              "      <td>False</td>\n",
              "      <td>finalized</td>\n",
              "      <td>3</td>\n",
              "      <td>10/26/15 23:30</td>\n",
              "      <td>male</td>\n",
              "      <td>1.0000</td>\n",
              "      <td>yes</td>\n",
              "      <td>1.0</td>\n",
              "      <td>10/1/12 13:51</td>\n",
              "      <td>I'm the author of novels filled with family dr...</td>\n",
              "      <td>68</td>\n",
              "      <td>NaN</td>\n",
              "      <td>0084B4</td>\n",
              "      <td>DavdBurnett</td>\n",
              "      <td>NaN</td>\n",
              "      <td>https://pbs.twimg.com/profile_images/539604221...</td>\n",
              "      <td>0</td>\n",
              "      <td>C0DEED</td>\n",
              "      <td>ÛÏIt felt like they were my friends and I was...</td>\n",
              "      <td>NaN</td>\n",
              "      <td>7471</td>\n",
              "      <td>10/26/15 12:40</td>\n",
              "      <td>6.587300e+17</td>\n",
              "      <td>NaN</td>\n",
              "      <td>Eastern Time (US &amp; Canada)</td>\n",
              "    </tr>\n",
              "    <tr>\n",
              "      <th>2</th>\n",
              "      <td>815719228</td>\n",
              "      <td>False</td>\n",
              "      <td>finalized</td>\n",
              "      <td>3</td>\n",
              "      <td>10/26/15 23:33</td>\n",
              "      <td>male</td>\n",
              "      <td>0.6625</td>\n",
              "      <td>yes</td>\n",
              "      <td>1.0</td>\n",
              "      <td>11/28/14 11:30</td>\n",
              "      <td>louis whining and squealing and all</td>\n",
              "      <td>7696</td>\n",
              "      <td>NaN</td>\n",
              "      <td>ABB8C2</td>\n",
              "      <td>lwtprettylaugh</td>\n",
              "      <td>NaN</td>\n",
              "      <td>https://pbs.twimg.com/profile_images/657330418...</td>\n",
              "      <td>1</td>\n",
              "      <td>C0DEED</td>\n",
              "      <td>i absolutely adore when louis starts the songs...</td>\n",
              "      <td>NaN</td>\n",
              "      <td>5617</td>\n",
              "      <td>10/26/15 12:40</td>\n",
              "      <td>6.587300e+17</td>\n",
              "      <td>clcncl</td>\n",
              "      <td>Belgrade</td>\n",
              "    </tr>\n",
              "    <tr>\n",
              "      <th>3</th>\n",
              "      <td>815719229</td>\n",
              "      <td>False</td>\n",
              "      <td>finalized</td>\n",
              "      <td>3</td>\n",
              "      <td>10/26/15 23:10</td>\n",
              "      <td>male</td>\n",
              "      <td>1.0000</td>\n",
              "      <td>yes</td>\n",
              "      <td>1.0</td>\n",
              "      <td>6/11/09 22:39</td>\n",
              "      <td>Mobile guy.  49ers, Shazam, Google, Kleiner Pe...</td>\n",
              "      <td>202</td>\n",
              "      <td>NaN</td>\n",
              "      <td>0084B4</td>\n",
              "      <td>douggarland</td>\n",
              "      <td>NaN</td>\n",
              "      <td>https://pbs.twimg.com/profile_images/259703936...</td>\n",
              "      <td>0</td>\n",
              "      <td>C0DEED</td>\n",
              "      <td>Hi @JordanSpieth - Looking at the url - do you...</td>\n",
              "      <td>NaN</td>\n",
              "      <td>1693</td>\n",
              "      <td>10/26/15 12:40</td>\n",
              "      <td>6.587300e+17</td>\n",
              "      <td>Palo Alto, CA</td>\n",
              "      <td>Pacific Time (US &amp; Canada)</td>\n",
              "    </tr>\n",
              "    <tr>\n",
              "      <th>4</th>\n",
              "      <td>815719230</td>\n",
              "      <td>False</td>\n",
              "      <td>finalized</td>\n",
              "      <td>3</td>\n",
              "      <td>10/27/15 1:15</td>\n",
              "      <td>female</td>\n",
              "      <td>1.0000</td>\n",
              "      <td>yes</td>\n",
              "      <td>1.0</td>\n",
              "      <td>4/16/14 13:23</td>\n",
              "      <td>Ricky Wilson The Best FRONTMAN/Kaiser Chiefs T...</td>\n",
              "      <td>37318</td>\n",
              "      <td>NaN</td>\n",
              "      <td>3B94D9</td>\n",
              "      <td>WilfordGemma</td>\n",
              "      <td>NaN</td>\n",
              "      <td>https://pbs.twimg.com/profile_images/564094871...</td>\n",
              "      <td>0</td>\n",
              "      <td>0</td>\n",
              "      <td>Watching Neighbours on Sky+ catching up with t...</td>\n",
              "      <td>NaN</td>\n",
              "      <td>31462</td>\n",
              "      <td>10/26/15 12:40</td>\n",
              "      <td>6.587300e+17</td>\n",
              "      <td>NaN</td>\n",
              "      <td>NaN</td>\n",
              "    </tr>\n",
              "  </tbody>\n",
              "</table>\n",
              "</div>"
            ],
            "text/plain": [
              "    _unit_id  _golden  ...   tweet_location               user_timezone\n",
              "0  815719226    False  ...  main; @Kan1shk3                     Chennai\n",
              "1  815719227    False  ...              NaN  Eastern Time (US & Canada)\n",
              "2  815719228    False  ...           clcncl                    Belgrade\n",
              "3  815719229    False  ...    Palo Alto, CA  Pacific Time (US & Canada)\n",
              "4  815719230    False  ...              NaN                         NaN\n",
              "\n",
              "[5 rows x 26 columns]"
            ]
          },
          "metadata": {
            "tags": []
          },
          "execution_count": 10
        }
      ]
    },
    {
      "cell_type": "code",
      "metadata": {
        "colab": {
          "base_uri": "https://localhost:8080/"
        },
        "id": "TjbP6-TkjGkv",
        "outputId": "efe5b7c2-aad9-43d1-8cf7-a7eac23c33f7"
      },
      "source": [
        "df.shape"
      ],
      "execution_count": 11,
      "outputs": [
        {
          "output_type": "execute_result",
          "data": {
            "text/plain": [
              "(12894, 26)"
            ]
          },
          "metadata": {
            "tags": []
          },
          "execution_count": 11
        }
      ]
    },
    {
      "cell_type": "code",
      "metadata": {
        "colab": {
          "base_uri": "https://localhost:8080/"
        },
        "id": "m9a3LnjXjGkv",
        "outputId": "7b7ba3cf-5fbc-4cb2-a51f-512b633eb85d"
      },
      "source": [
        "df.columns"
      ],
      "execution_count": 12,
      "outputs": [
        {
          "output_type": "execute_result",
          "data": {
            "text/plain": [
              "Index(['_unit_id', '_golden', '_unit_state', '_trusted_judgments',\n",
              "       '_last_judgment_at', 'gender', 'gender:confidence', 'profile_yn',\n",
              "       'profile_yn:confidence', 'created', 'description', 'fav_number',\n",
              "       'gender_gold', 'link_color', 'name', 'profile_yn_gold', 'profileimage',\n",
              "       'retweet_count', 'sidebar_color', 'text', 'tweet_coord', 'tweet_count',\n",
              "       'tweet_created', 'tweet_id', 'tweet_location', 'user_timezone'],\n",
              "      dtype='object')"
            ]
          },
          "metadata": {
            "tags": []
          },
          "execution_count": 12
        }
      ]
    },
    {
      "cell_type": "raw",
      "metadata": {
        "id": "WNQtb0JGjGkw"
      },
      "source": [
        "Here, most of the columns are no necessary for predicting the gender of the user. considered only columns like\n",
        "link_color\n",
        "sidebar_color\n",
        "text\n",
        "description\n",
        "gender"
      ]
    },
    {
      "cell_type": "code",
      "metadata": {
        "id": "dQCzX0SSjGkw"
      },
      "source": [
        "#Dropping unwanted columns from dataset\n",
        "\n",
        "df = df.drop([ '_golden', '_unit_state', '_last_judgment_at', 'gender:confidence', 'profile_yn', 'profile_yn:confidence', \n",
        "                        'created', 'fav_number', 'gender_gold', 'name', 'profile_yn_gold', 'profileimage', 'retweet_count', \n",
        "                        'tweet_coord',  'tweet_created', 'tweet_id', 'tweet_location', 'user_timezone', \n",
        "                        '_trusted_judgments'], axis = 1)"
      ],
      "execution_count": 13,
      "outputs": []
    },
    {
      "cell_type": "code",
      "metadata": {
        "colab": {
          "base_uri": "https://localhost:8080/",
          "height": 310
        },
        "id": "bjqtFWwXjGkw",
        "outputId": "5c97935e-438d-475f-851b-cdaae2145e0d"
      },
      "source": [
        "df.head()"
      ],
      "execution_count": 14,
      "outputs": [
        {
          "output_type": "execute_result",
          "data": {
            "text/html": [
              "<div>\n",
              "<style scoped>\n",
              "    .dataframe tbody tr th:only-of-type {\n",
              "        vertical-align: middle;\n",
              "    }\n",
              "\n",
              "    .dataframe tbody tr th {\n",
              "        vertical-align: top;\n",
              "    }\n",
              "\n",
              "    .dataframe thead th {\n",
              "        text-align: right;\n",
              "    }\n",
              "</style>\n",
              "<table border=\"1\" class=\"dataframe\">\n",
              "  <thead>\n",
              "    <tr style=\"text-align: right;\">\n",
              "      <th></th>\n",
              "      <th>_unit_id</th>\n",
              "      <th>gender</th>\n",
              "      <th>description</th>\n",
              "      <th>link_color</th>\n",
              "      <th>sidebar_color</th>\n",
              "      <th>text</th>\n",
              "      <th>tweet_count</th>\n",
              "    </tr>\n",
              "  </thead>\n",
              "  <tbody>\n",
              "    <tr>\n",
              "      <th>0</th>\n",
              "      <td>815719226</td>\n",
              "      <td>male</td>\n",
              "      <td>i sing my own rhythm.</td>\n",
              "      <td>08C2C2</td>\n",
              "      <td>FFFFFF</td>\n",
              "      <td>Robbie E Responds To Critics After Win Against...</td>\n",
              "      <td>110964</td>\n",
              "    </tr>\n",
              "    <tr>\n",
              "      <th>1</th>\n",
              "      <td>815719227</td>\n",
              "      <td>male</td>\n",
              "      <td>I'm the author of novels filled with family dr...</td>\n",
              "      <td>0084B4</td>\n",
              "      <td>C0DEED</td>\n",
              "      <td>ÛÏIt felt like they were my friends and I was...</td>\n",
              "      <td>7471</td>\n",
              "    </tr>\n",
              "    <tr>\n",
              "      <th>2</th>\n",
              "      <td>815719228</td>\n",
              "      <td>male</td>\n",
              "      <td>louis whining and squealing and all</td>\n",
              "      <td>ABB8C2</td>\n",
              "      <td>C0DEED</td>\n",
              "      <td>i absolutely adore when louis starts the songs...</td>\n",
              "      <td>5617</td>\n",
              "    </tr>\n",
              "    <tr>\n",
              "      <th>3</th>\n",
              "      <td>815719229</td>\n",
              "      <td>male</td>\n",
              "      <td>Mobile guy.  49ers, Shazam, Google, Kleiner Pe...</td>\n",
              "      <td>0084B4</td>\n",
              "      <td>C0DEED</td>\n",
              "      <td>Hi @JordanSpieth - Looking at the url - do you...</td>\n",
              "      <td>1693</td>\n",
              "    </tr>\n",
              "    <tr>\n",
              "      <th>4</th>\n",
              "      <td>815719230</td>\n",
              "      <td>female</td>\n",
              "      <td>Ricky Wilson The Best FRONTMAN/Kaiser Chiefs T...</td>\n",
              "      <td>3B94D9</td>\n",
              "      <td>0</td>\n",
              "      <td>Watching Neighbours on Sky+ catching up with t...</td>\n",
              "      <td>31462</td>\n",
              "    </tr>\n",
              "  </tbody>\n",
              "</table>\n",
              "</div>"
            ],
            "text/plain": [
              "    _unit_id  ... tweet_count\n",
              "0  815719226  ...      110964\n",
              "1  815719227  ...        7471\n",
              "2  815719228  ...        5617\n",
              "3  815719229  ...        1693\n",
              "4  815719230  ...       31462\n",
              "\n",
              "[5 rows x 7 columns]"
            ]
          },
          "metadata": {
            "tags": []
          },
          "execution_count": 14
        }
      ]
    },
    {
      "cell_type": "markdown",
      "metadata": {
        "id": "48xh6BG_jGkx"
      },
      "source": [
        "# Data Exploration & Feature Engineering"
      ]
    },
    {
      "cell_type": "markdown",
      "metadata": {
        "id": "cmE-kIJKjGkx"
      },
      "source": [
        "# Questions to be answered at the end of EDA:# "
      ]
    },
    {
      "cell_type": "raw",
      "metadata": {
        "id": "3oucWYOjjGkx"
      },
      "source": [
        "Q1) What are the most common words used by Males and Females?"
      ]
    },
    {
      "cell_type": "code",
      "metadata": {
        "id": "PoOVI6etjGky"
      },
      "source": [
        "from datetime import datetime\n",
        "%matplotlib inline\n",
        "import matplotlib.pyplot as plt\n",
        "\n",
        "from collections import Counter\n",
        "import re\n",
        "\n",
        "from sklearn.preprocessing import LabelEncoder\n",
        "from sklearn.feature_extraction.text import CountVectorizer\n",
        "from sklearn import linear_model, metrics\n",
        "from sklearn import naive_bayes\n",
        "from sklearn import svm\n",
        "from sklearn.model_selection import train_test_split"
      ],
      "execution_count": 15,
      "outputs": []
    },
    {
      "cell_type": "code",
      "metadata": {
        "id": "jdHotHURjGky"
      },
      "source": [
        "#Function to normalize text\n",
        "\n",
        "def normalize_text_feature(txt):\n",
        "    '''\n",
        "    To normalize the text we convert them to strings, in lowercase and remove all punctuations.\n",
        "    \n",
        "    Arguments:\n",
        "    txt: the text in the dataset that needs to be normalized.\n",
        "    \n",
        "    Returns:\n",
        "    s: normalized string\n",
        "    '''\n",
        "    s = str(txt) \n",
        "    s = s.lower()\n",
        "    s = re.sub('\\W\\s',' ',s)\n",
        "    s = re.sub('\\s\\W',' ',s)\n",
        "    s = re.sub('@',' at_the_rate ',s)\n",
        "    s = re.sub('\\s+',' ',s)\n",
        "    return s"
      ],
      "execution_count": 16,
      "outputs": []
    },
    {
      "cell_type": "code",
      "metadata": {
        "id": "gopkLIzFjGkz"
      },
      "source": [
        "#Function to find the different words and the number of occurences of each word\n",
        "\n",
        "def compute_bag_of_words(txt):\n",
        "    '''    \n",
        "    Arguments:\n",
        "    txt: The text in the dataset that needs to be vectorised.\n",
        "    \n",
        "    Returns:\n",
        "    vectors: number of occurences of different words in txt \n",
        "    vocabulary: different words in txt\n",
        "    '''\n",
        "    vectorizer = CountVectorizer()\n",
        "    vectors = vectorizer.fit_transform(txt)\n",
        "    vocabulary = vectorizer.get_feature_names()\n",
        "    return vectors, vocabulary"
      ],
      "execution_count": 17,
      "outputs": []
    },
    {
      "cell_type": "code",
      "metadata": {
        "id": "Zt6HkA6kjGkz"
      },
      "source": [
        "#Function to visualize the most used words in a dataset\n",
        "\n",
        "def print_most_frequent(bow, vocab, gender):\n",
        "    '''\n",
        "    The 30 most used words are selected and displayed in a graph.\n",
        "    \n",
        "    Arguments:\n",
        "    bow: bag of words - number of occurences of different words in the text\n",
        "    vocab: different words in the text\n",
        "    gender: the gender for which the graph is to be displayed\n",
        "    \n",
        "    Returns:\n",
        "    None\n",
        "    '''\n",
        "    color_idx = ['female', 'male']\n",
        "    label_table = [\"Most used words by females for 'all_text'\", \"Most used words by males for 'all_text'\"]\n",
        "    \n",
        "    #Selecting the 30 most used words to display\n",
        "    n_most = 30\n",
        "    idx = np.argsort(bow.sum(axis=0))\n",
        "    idx_most_used = np.zeros(n_most)\n",
        "    occurence_number = np.zeros(n_most)\n",
        "    words_most_used = [\"\" for x in range(n_most)]\n",
        "\n",
        "    for i in range(0,n_most):\n",
        "        idx_most_used[i] = idx[0, -1-i]\n",
        "        words_most_used[i] = vocab[np.int64(idx_most_used[i])]\n",
        "        occurence_number[i] = bow.sum(axis=0)[0, idx[0, -1-i]]\n",
        "\n",
        "    #Plotting the graph\n",
        "    fig, ax = plt.subplots()\n",
        "    \n",
        "    word_number = np.arange(n_most)+1\n",
        "    rects1 = plt.barh(word_number, occurence_number, label = label_table[color_idx.index(gender)])\n",
        "    plt.yticks(word_number,words_most_used)\n",
        "    plt.ylabel('Most used words')\n",
        "    plt.xlabel('Number of occurences')\n",
        "    plt.title(label_table[color_idx.index(gender)])\n",
        "    plt.tight_layout()\n",
        "    plt.show()"
      ],
      "execution_count": 18,
      "outputs": []
    },
    {
      "cell_type": "code",
      "metadata": {
        "colab": {
          "base_uri": "https://localhost:8080/",
          "height": 766
        },
        "id": "09R9e3ybjGk0",
        "outputId": "352dd2ec-af4a-4b48-edf7-c9ceac84ab9b"
      },
      "source": [
        "#Data exploration for text features\n",
        "#Normalizing text and finding the most used words by each gender\n",
        "\n",
        "#Adding a new column to the dataframe to store normalised version of 'text' and 'description'\n",
        "df['text_norm'] = [normalize_text_feature(txt) for txt in df['text']]\n",
        "df['description_norm'] = [normalize_text_feature(txt) for txt in df['description']]\n",
        "\n",
        "#Concatenating the nomalized 'text_norm' and 'description_norm' into a single column as text can be represented in a single column\n",
        "df['all_text'] =df['text_norm'].str.cat(df['description_norm'],sep=' ')\n",
        "df = df.drop(['text', 'description', 'text_norm', 'description_norm'], axis = 1)\n",
        "\n",
        "#Extract separate gender dataframes\n",
        "female_data = df[df['gender']=='female']\n",
        "male_data = df[df['gender']=='male']\n",
        "\n",
        "#Computing and displaying bag of words and occurences of words for each gender\n",
        "male_bow, male_voc = compute_bag_of_words(male_data['all_text'])\n",
        "print_most_frequent(male_bow, male_voc, 'male')\n",
        "\n",
        "female_bow, female_voc = compute_bag_of_words(female_data['all_text'])\n",
        "print_most_frequent(female_bow, female_voc, 'female')\n",
        "\n",
        "df.head()"
      ],
      "execution_count": 19,
      "outputs": [
        {
          "output_type": "display_data",
          "data": {
            "image/png": "[encoded data removed]",
            "text/plain": [
              "<Figure size 432x288 with 1 Axes>"
            ]
          },
          "metadata": {
            "tags": [],
            "needs_background": "light"
          }
        },
        {
          "output_type": "display_data",
          "data": {
            "image/png": "[encoded data removed]",
            "text/plain": [
              "<Figure size 432x288 with 1 Axes>"
            ]
          },
          "metadata": {
            "tags": [],
            "needs_background": "light"
          }
        },
        {
          "output_type": "execute_result",
          "data": {
            "text/html": [
              "<div>\n",
              "<style scoped>\n",
              "    .dataframe tbody tr th:only-of-type {\n",
              "        vertical-align: middle;\n",
              "    }\n",
              "\n",
              "    .dataframe tbody tr th {\n",
              "        vertical-align: top;\n",
              "    }\n",
              "\n",
              "    .dataframe thead th {\n",
              "        text-align: right;\n",
              "    }\n",
              "</style>\n",
              "<table border=\"1\" class=\"dataframe\">\n",
              "  <thead>\n",
              "    <tr style=\"text-align: right;\">\n",
              "      <th></th>\n",
              "      <th>_unit_id</th>\n",
              "      <th>gender</th>\n",
              "      <th>link_color</th>\n",
              "      <th>sidebar_color</th>\n",
              "      <th>tweet_count</th>\n",
              "      <th>all_text</th>\n",
              "    </tr>\n",
              "  </thead>\n",
              "  <tbody>\n",
              "    <tr>\n",
              "      <th>0</th>\n",
              "      <td>815719226</td>\n",
              "      <td>male</td>\n",
              "      <td>08C2C2</td>\n",
              "      <td>FFFFFF</td>\n",
              "      <td>110964</td>\n",
              "      <td>robbie e responds to critics after win against...</td>\n",
              "    </tr>\n",
              "    <tr>\n",
              "      <th>1</th>\n",
              "      <td>815719227</td>\n",
              "      <td>male</td>\n",
              "      <td>0084B4</td>\n",
              "      <td>C0DEED</td>\n",
              "      <td>7471</td>\n",
              "      <td>ûïit felt like they were my friends and i was...</td>\n",
              "    </tr>\n",
              "    <tr>\n",
              "      <th>2</th>\n",
              "      <td>815719228</td>\n",
              "      <td>male</td>\n",
              "      <td>ABB8C2</td>\n",
              "      <td>C0DEED</td>\n",
              "      <td>5617</td>\n",
              "      <td>i absolutely adore when louis starts the songs...</td>\n",
              "    </tr>\n",
              "    <tr>\n",
              "      <th>3</th>\n",
              "      <td>815719229</td>\n",
              "      <td>male</td>\n",
              "      <td>0084B4</td>\n",
              "      <td>C0DEED</td>\n",
              "      <td>1693</td>\n",
              "      <td>hi jordanspieth looking at the url do you use ...</td>\n",
              "    </tr>\n",
              "    <tr>\n",
              "      <th>4</th>\n",
              "      <td>815719230</td>\n",
              "      <td>female</td>\n",
              "      <td>3B94D9</td>\n",
              "      <td>0</td>\n",
              "      <td>31462</td>\n",
              "      <td>watching neighbours on sky catching up with th...</td>\n",
              "    </tr>\n",
              "  </tbody>\n",
              "</table>\n",
              "</div>"
            ],
            "text/plain": [
              "    _unit_id  ...                                           all_text\n",
              "0  815719226  ...  robbie e responds to critics after win against...\n",
              "1  815719227  ...  ûïit felt like they were my friends and i was...\n",
              "2  815719228  ...  i absolutely adore when louis starts the songs...\n",
              "3  815719229  ...  hi jordanspieth looking at the url do you use ...\n",
              "4  815719230  ...  watching neighbours on sky catching up with th...\n",
              "\n",
              "[5 rows x 6 columns]"
            ]
          },
          "metadata": {
            "tags": []
          },
          "execution_count": 19
        }
      ]
    },
    {
      "cell_type": "raw",
      "metadata": {
        "id": "89uzWlcPjGk2"
      },
      "source": [
        "  Q2) How significant are the colors used by the users in classifying gender?"
      ]
    },
    {
      "cell_type": "code",
      "metadata": {
        "id": "okVMsx23jGk2"
      },
      "source": [
        "#This function is to visualize the most used colors by each gender in their profile\n",
        "\n",
        "def explore_color_feature(df, feature):\n",
        "    '''\n",
        "    Definition of function for data exploration for the colors.\n",
        "    The explore_color_feature function plots the most used colors by gender as bar graphs.\n",
        "    \n",
        "    Arguments:\n",
        "    feature : 'sidebar_color', 'link_color'\n",
        "    df: dataset to be visualized.\n",
        "    \n",
        "    Returns:\n",
        "    None\n",
        "    '''\n",
        "\n",
        "    #Creating a subset of the gender and color of the feature being visualized\n",
        "    Color_subset = df.loc[:,['gender', feature]]\n",
        "\n",
        "    #Splitting the dataset w.r.t. 'gender' \n",
        "    Color_subset_male = Color_subset[Color_subset['gender'] == 'male']\n",
        "    Color_subset_female = Color_subset[Color_subset['gender'] == 'female']\n",
        "\n",
        "    #List of all colors and number of users for each gender\n",
        "    colors_list_male = list(Color_subset_male[feature].values.flatten())\n",
        "    colors_list_female = list(Color_subset_female[feature].values.flatten())\n",
        "\n",
        "    #30 Most common colors used by each gender (30 chosen for easy clarity in representation)\n",
        "    nCommon = 30\n",
        "    top_colors_female = [x[0] for x in Counter(colors_list_female).most_common(nCommon)]\n",
        "    top_colors_male = [x[0] for x in Counter(colors_list_male).most_common(nCommon)]\n",
        "\n",
        "    #Number of profiles using the each color in the 30 most common colors\n",
        "    top_colors_users_female = [x[1] for x in Counter(colors_list_female).most_common(nCommon)]\n",
        "    top_colors_users_male = [x[1] for x in Counter(colors_list_male).most_common(nCommon)]\n",
        "\n",
        "    #Deriving the hexadecimal value to represent each color in the graph\n",
        "    top_colors_female_hex = ['#' + x + '000000' for x in top_colors_female]\n",
        "    top_colors_female_hex = [x[0:7] for x in top_colors_female_hex]\n",
        "    top_colors_male_hex = ['#' + x + '000000' for x in top_colors_male]\n",
        "    top_colors_male_hex = [x[0:7] for x in top_colors_male_hex]\n",
        "\n",
        "    #Range of colors for each gender\n",
        "    color_range_female = list(range(len(top_colors_female)))\n",
        "    color_range_male = list(range(len(top_colors_male)))\n",
        "\n",
        "    #Color usage plot for female profiles\n",
        "    fig1, ax1 = plt.subplots()\n",
        "\n",
        "    bar_width = 0.5\n",
        "    rects1 = plt.barh(color_range_female, top_colors_users_female, bar_width, label = 'Female', color = top_colors_female_hex)\n",
        "    plt.yticks(color_range_female, top_colors_female_hex)\n",
        "    plt.xlabel('Color')\n",
        "    plt.ylabel(feature)\n",
        "    plt.title('Most used colors by Females for ' + feature)\n",
        "    plt.tight_layout()\n",
        "    plt.show()\n",
        "\n",
        "    #Color usage plot for male profiles\n",
        "    fig2, ax2 = plt.subplots()\n",
        "\n",
        "    bar_width = 0.5\n",
        "    rects1 = plt.barh(color_range_male, top_colors_users_male, bar_width, label = 'Male', color = top_colors_male_hex)\n",
        "    plt.yticks(color_range_male, top_colors_male_hex)\n",
        "    plt.xlabel('Color')\n",
        "    plt.ylabel(feature)\n",
        "    plt.title('Most used colors by Males for ' + feature)\n",
        "    plt.tight_layout()\n",
        "    plt.show()"
      ],
      "execution_count": 20,
      "outputs": []
    },
    {
      "cell_type": "code",
      "metadata": {
        "colab": {
          "base_uri": "https://localhost:8080/",
          "height": 1000
        },
        "id": "4GAEiVlKjGk3",
        "outputId": "e90d4031-6020-43a0-99e4-303922fadfd2"
      },
      "source": [
        "#Data exploration for color features\n",
        "\n",
        "#Removing weird values from color\n",
        "df = df.loc[(df['sidebar_color']).str.contains('E\\+') != True]\n",
        "df = df.loc[(df['link_color']).str.contains('E\\+') != True]\n",
        "\n",
        "#Plot for the most used 'sidebar_colors'\n",
        "explore_color_feature(df, 'sidebar_color')\n",
        "\n",
        "#Plot for the most used 'link_colors'\n",
        "explore_color_feature(df, 'link_color')"
      ],
      "execution_count": 21,
      "outputs": [
        {
          "output_type": "display_data",
          "data": {
            "image/png": "[encoded data removed]",
            "text/plain": [
              "<Figure size 432x288 with 1 Axes>"
            ]
          },
          "metadata": {
            "tags": [],
            "needs_background": "light"
          }
        },
        {
          "output_type": "display_data",
          "data": {
            "image/png": "[encoded data removed]",
            "text/plain": [
              "<Figure size 432x288 with 1 Axes>"
            ]
          },
          "metadata": {
            "tags": [],
            "needs_background": "light"
          }
        },
        {
          "output_type": "display_data",
          "data": {
            "image/png": "[encoded data removed]",
            "text/plain": [
              "<Figure size 432x288 with 1 Axes>"
            ]
          },
          "metadata": {
            "tags": [],
            "needs_background": "light"
          }
        },
        {
          "output_type": "display_data",
          "data": {
            "image/png": "[encoded data removed]",
            "text/plain": [
              "<Figure size 432x288 with 1 Axes>"
            ]
          },
          "metadata": {
            "tags": [],
            "needs_background": "light"
          }
        }
      ]
    },
    {
      "cell_type": "code",
      "metadata": {
        "colab": {
          "base_uri": "https://localhost:8080/",
          "height": 423
        },
        "id": "AjoAoU9LjGk3",
        "outputId": "2c989f0c-23aa-4469-d10e-1276024b6189"
      },
      "source": [
        "df.dropna()"
      ],
      "execution_count": 22,
      "outputs": [
        {
          "output_type": "execute_result",
          "data": {
            "text/html": [
              "<div>\n",
              "<style scoped>\n",
              "    .dataframe tbody tr th:only-of-type {\n",
              "        vertical-align: middle;\n",
              "    }\n",
              "\n",
              "    .dataframe tbody tr th {\n",
              "        vertical-align: top;\n",
              "    }\n",
              "\n",
              "    .dataframe thead th {\n",
              "        text-align: right;\n",
              "    }\n",
              "</style>\n",
              "<table border=\"1\" class=\"dataframe\">\n",
              "  <thead>\n",
              "    <tr style=\"text-align: right;\">\n",
              "      <th></th>\n",
              "      <th>_unit_id</th>\n",
              "      <th>gender</th>\n",
              "      <th>link_color</th>\n",
              "      <th>sidebar_color</th>\n",
              "      <th>tweet_count</th>\n",
              "      <th>all_text</th>\n",
              "    </tr>\n",
              "  </thead>\n",
              "  <tbody>\n",
              "    <tr>\n",
              "      <th>0</th>\n",
              "      <td>815719226</td>\n",
              "      <td>male</td>\n",
              "      <td>08C2C2</td>\n",
              "      <td>FFFFFF</td>\n",
              "      <td>110964</td>\n",
              "      <td>robbie e responds to critics after win against...</td>\n",
              "    </tr>\n",
              "    <tr>\n",
              "      <th>1</th>\n",
              "      <td>815719227</td>\n",
              "      <td>male</td>\n",
              "      <td>0084B4</td>\n",
              "      <td>C0DEED</td>\n",
              "      <td>7471</td>\n",
              "      <td>ûïit felt like they were my friends and i was...</td>\n",
              "    </tr>\n",
              "    <tr>\n",
              "      <th>2</th>\n",
              "      <td>815719228</td>\n",
              "      <td>male</td>\n",
              "      <td>ABB8C2</td>\n",
              "      <td>C0DEED</td>\n",
              "      <td>5617</td>\n",
              "      <td>i absolutely adore when louis starts the songs...</td>\n",
              "    </tr>\n",
              "    <tr>\n",
              "      <th>3</th>\n",
              "      <td>815719229</td>\n",
              "      <td>male</td>\n",
              "      <td>0084B4</td>\n",
              "      <td>C0DEED</td>\n",
              "      <td>1693</td>\n",
              "      <td>hi jordanspieth looking at the url do you use ...</td>\n",
              "    </tr>\n",
              "    <tr>\n",
              "      <th>4</th>\n",
              "      <td>815719230</td>\n",
              "      <td>female</td>\n",
              "      <td>3B94D9</td>\n",
              "      <td>0</td>\n",
              "      <td>31462</td>\n",
              "      <td>watching neighbours on sky catching up with th...</td>\n",
              "    </tr>\n",
              "    <tr>\n",
              "      <th>...</th>\n",
              "      <td>...</td>\n",
              "      <td>...</td>\n",
              "      <td>...</td>\n",
              "      <td>...</td>\n",
              "      <td>...</td>\n",
              "      <td>...</td>\n",
              "    </tr>\n",
              "    <tr>\n",
              "      <th>20045</th>\n",
              "      <td>815757572</td>\n",
              "      <td>female</td>\n",
              "      <td>0084B4</td>\n",
              "      <td>C0DEED</td>\n",
              "      <td>783</td>\n",
              "      <td>at_the_rate lookupondeath ..fine and i'll dri...</td>\n",
              "    </tr>\n",
              "    <tr>\n",
              "      <th>20046</th>\n",
              "      <td>815757681</td>\n",
              "      <td>male</td>\n",
              "      <td>CFB929</td>\n",
              "      <td>0</td>\n",
              "      <td>13523</td>\n",
              "      <td>greg hardy you a good player and all but don't...</td>\n",
              "    </tr>\n",
              "    <tr>\n",
              "      <th>20047</th>\n",
              "      <td>815757830</td>\n",
              "      <td>male</td>\n",
              "      <td>0084B4</td>\n",
              "      <td>C0DEED</td>\n",
              "      <td>26419</td>\n",
              "      <td>you can miss people and still never want to se...</td>\n",
              "    </tr>\n",
              "    <tr>\n",
              "      <th>20048</th>\n",
              "      <td>815757921</td>\n",
              "      <td>female</td>\n",
              "      <td>9266CC</td>\n",
              "      <td>0</td>\n",
              "      <td>56073</td>\n",
              "      <td>at_the_rate bitemyapp i had noticed your tend...</td>\n",
              "    </tr>\n",
              "    <tr>\n",
              "      <th>20049</th>\n",
              "      <td>815757985</td>\n",
              "      <td>female</td>\n",
              "      <td>0084B4</td>\n",
              "      <td>C0DEED</td>\n",
              "      <td>2922</td>\n",
              "      <td>i think for my apush creative project i'm goin...</td>\n",
              "    </tr>\n",
              "  </tbody>\n",
              "</table>\n",
              "<p>12859 rows × 6 columns</p>\n",
              "</div>"
            ],
            "text/plain": [
              "        _unit_id  ...                                           all_text\n",
              "0      815719226  ...  robbie e responds to critics after win against...\n",
              "1      815719227  ...  ûïit felt like they were my friends and i was...\n",
              "2      815719228  ...  i absolutely adore when louis starts the songs...\n",
              "3      815719229  ...  hi jordanspieth looking at the url do you use ...\n",
              "4      815719230  ...  watching neighbours on sky catching up with th...\n",
              "...          ...  ...                                                ...\n",
              "20045  815757572  ...   at_the_rate lookupondeath ..fine and i'll dri...\n",
              "20046  815757681  ...  greg hardy you a good player and all but don't...\n",
              "20047  815757830  ...  you can miss people and still never want to se...\n",
              "20048  815757921  ...   at_the_rate bitemyapp i had noticed your tend...\n",
              "20049  815757985  ...  i think for my apush creative project i'm goin...\n",
              "\n",
              "[12859 rows x 6 columns]"
            ]
          },
          "metadata": {
            "tags": []
          },
          "execution_count": 22
        }
      ]
    },
    {
      "cell_type": "code",
      "metadata": {
        "colab": {
          "base_uri": "https://localhost:8080/"
        },
        "id": "C53EUhtxjGk4",
        "outputId": "e9455698-1cc3-4f43-8779-1f22d17ae50e"
      },
      "source": [
        "df.columns"
      ],
      "execution_count": 23,
      "outputs": [
        {
          "output_type": "execute_result",
          "data": {
            "text/plain": [
              "Index(['_unit_id', 'gender', 'link_color', 'sidebar_color', 'tweet_count',\n",
              "       'all_text'],\n",
              "      dtype='object')"
            ]
          },
          "metadata": {
            "tags": []
          },
          "execution_count": 23
        }
      ]
    },
    {
      "cell_type": "code",
      "metadata": {
        "colab": {
          "base_uri": "https://localhost:8080/",
          "height": 423
        },
        "id": "DF8jZfVajGk5",
        "outputId": "4eaa0ec1-3ca2-4700-f5a9-3f3530f76b46"
      },
      "source": [
        "df.apply(pd.to_numeric, downcast=\"integer\", errors=\"ignore\")"
      ],
      "execution_count": 24,
      "outputs": [
        {
          "output_type": "execute_result",
          "data": {
            "text/html": [
              "<div>\n",
              "<style scoped>\n",
              "    .dataframe tbody tr th:only-of-type {\n",
              "        vertical-align: middle;\n",
              "    }\n",
              "\n",
              "    .dataframe tbody tr th {\n",
              "        vertical-align: top;\n",
              "    }\n",
              "\n",
              "    .dataframe thead th {\n",
              "        text-align: right;\n",
              "    }\n",
              "</style>\n",
              "<table border=\"1\" class=\"dataframe\">\n",
              "  <thead>\n",
              "    <tr style=\"text-align: right;\">\n",
              "      <th></th>\n",
              "      <th>_unit_id</th>\n",
              "      <th>gender</th>\n",
              "      <th>link_color</th>\n",
              "      <th>sidebar_color</th>\n",
              "      <th>tweet_count</th>\n",
              "      <th>all_text</th>\n",
              "    </tr>\n",
              "  </thead>\n",
              "  <tbody>\n",
              "    <tr>\n",
              "      <th>0</th>\n",
              "      <td>815719226</td>\n",
              "      <td>male</td>\n",
              "      <td>08C2C2</td>\n",
              "      <td>FFFFFF</td>\n",
              "      <td>110964</td>\n",
              "      <td>robbie e responds to critics after win against...</td>\n",
              "    </tr>\n",
              "    <tr>\n",
              "      <th>1</th>\n",
              "      <td>815719227</td>\n",
              "      <td>male</td>\n",
              "      <td>0084B4</td>\n",
              "      <td>C0DEED</td>\n",
              "      <td>7471</td>\n",
              "      <td>ûïit felt like they were my friends and i was...</td>\n",
              "    </tr>\n",
              "    <tr>\n",
              "      <th>2</th>\n",
              "      <td>815719228</td>\n",
              "      <td>male</td>\n",
              "      <td>ABB8C2</td>\n",
              "      <td>C0DEED</td>\n",
              "      <td>5617</td>\n",
              "      <td>i absolutely adore when louis starts the songs...</td>\n",
              "    </tr>\n",
              "    <tr>\n",
              "      <th>3</th>\n",
              "      <td>815719229</td>\n",
              "      <td>male</td>\n",
              "      <td>0084B4</td>\n",
              "      <td>C0DEED</td>\n",
              "      <td>1693</td>\n",
              "      <td>hi jordanspieth looking at the url do you use ...</td>\n",
              "    </tr>\n",
              "    <tr>\n",
              "      <th>4</th>\n",
              "      <td>815719230</td>\n",
              "      <td>female</td>\n",
              "      <td>3B94D9</td>\n",
              "      <td>0</td>\n",
              "      <td>31462</td>\n",
              "      <td>watching neighbours on sky catching up with th...</td>\n",
              "    </tr>\n",
              "    <tr>\n",
              "      <th>...</th>\n",
              "      <td>...</td>\n",
              "      <td>...</td>\n",
              "      <td>...</td>\n",
              "      <td>...</td>\n",
              "      <td>...</td>\n",
              "      <td>...</td>\n",
              "    </tr>\n",
              "    <tr>\n",
              "      <th>20045</th>\n",
              "      <td>815757572</td>\n",
              "      <td>female</td>\n",
              "      <td>0084B4</td>\n",
              "      <td>C0DEED</td>\n",
              "      <td>783</td>\n",
              "      <td>at_the_rate lookupondeath ..fine and i'll dri...</td>\n",
              "    </tr>\n",
              "    <tr>\n",
              "      <th>20046</th>\n",
              "      <td>815757681</td>\n",
              "      <td>male</td>\n",
              "      <td>CFB929</td>\n",
              "      <td>0</td>\n",
              "      <td>13523</td>\n",
              "      <td>greg hardy you a good player and all but don't...</td>\n",
              "    </tr>\n",
              "    <tr>\n",
              "      <th>20047</th>\n",
              "      <td>815757830</td>\n",
              "      <td>male</td>\n",
              "      <td>0084B4</td>\n",
              "      <td>C0DEED</td>\n",
              "      <td>26419</td>\n",
              "      <td>you can miss people and still never want to se...</td>\n",
              "    </tr>\n",
              "    <tr>\n",
              "      <th>20048</th>\n",
              "      <td>815757921</td>\n",
              "      <td>female</td>\n",
              "      <td>9266CC</td>\n",
              "      <td>0</td>\n",
              "      <td>56073</td>\n",
              "      <td>at_the_rate bitemyapp i had noticed your tend...</td>\n",
              "    </tr>\n",
              "    <tr>\n",
              "      <th>20049</th>\n",
              "      <td>815757985</td>\n",
              "      <td>female</td>\n",
              "      <td>0084B4</td>\n",
              "      <td>C0DEED</td>\n",
              "      <td>2922</td>\n",
              "      <td>i think for my apush creative project i'm goin...</td>\n",
              "    </tr>\n",
              "  </tbody>\n",
              "</table>\n",
              "<p>12859 rows × 6 columns</p>\n",
              "</div>"
            ],
            "text/plain": [
              "        _unit_id  ...                                           all_text\n",
              "0      815719226  ...  robbie e responds to critics after win against...\n",
              "1      815719227  ...  ûïit felt like they were my friends and i was...\n",
              "2      815719228  ...  i absolutely adore when louis starts the songs...\n",
              "3      815719229  ...  hi jordanspieth looking at the url do you use ...\n",
              "4      815719230  ...  watching neighbours on sky catching up with th...\n",
              "...          ...  ...                                                ...\n",
              "20045  815757572  ...   at_the_rate lookupondeath ..fine and i'll dri...\n",
              "20046  815757681  ...  greg hardy you a good player and all but don't...\n",
              "20047  815757830  ...  you can miss people and still never want to se...\n",
              "20048  815757921  ...   at_the_rate bitemyapp i had noticed your tend...\n",
              "20049  815757985  ...  i think for my apush creative project i'm goin...\n",
              "\n",
              "[12859 rows x 6 columns]"
            ]
          },
          "metadata": {
            "tags": []
          },
          "execution_count": 24
        }
      ]
    },
    {
      "cell_type": "raw",
      "metadata": {
        "id": "dVZv9DxDjGk5"
      },
      "source": [
        "Q3)  Which gender makes more typos in their tweets?"
      ]
    },
    {
      "cell_type": "code",
      "metadata": {
        "id": "2eVxkZyOjGk6"
      },
      "source": [
        "def find_typos(text):\n",
        "    text=re.sub(\"<[^>]*>\",\" \",text) #remove html\n",
        "    text=re.sub(\"https?://[A-Za-z0-9./]+\",\" \",text) #remove url\n",
        "    text=re.sub(\"@[A-Za-z0-9_]+\",\" \",text)#remove tags          #To avoid counting tags and hashtags as a typo\n",
        "    text=re.sub(\"#[A-Za-z0-9_]+\",\" \",text) #remove hashtags\n",
        "    text=re.sub(\"_+\",\" \",text)#remove underscore \n",
        "    text=re.sub(\"[^a-zA-z]\",\" \",text) #remove symbols and digits\n",
        "    text=text.lower() #converting to lowercase\n",
        "    word_list=text.split() #splitting the text\n",
        "    typolist=[typo for typo in spell.unknown(word_list) if not typo ==set()]  #list of typos\n",
        "    return len(typolist) #returns no. of typos in \"text\" "
      ],
      "execution_count": 27,
      "outputs": []
    },
    {
      "cell_type": "code",
      "metadata": {
        "id": "ByaXGdQPjGk6"
      },
      "source": [
        "df_male=df[df['gender']=='male']\n",
        "df_female=df[df['gender']=='female']"
      ],
      "execution_count": 28,
      "outputs": []
    },
    {
      "cell_type": "code",
      "metadata": {
        "colab": {
          "base_uri": "https://localhost:8080/",
          "height": 143
        },
        "id": "WaIViQyTjGk6",
        "outputId": "ae987008-daa6-445f-974e-723ec298443a"
      },
      "source": [
        "df_female.head(3)"
      ],
      "execution_count": 29,
      "outputs": [
        {
          "output_type": "execute_result",
          "data": {
            "text/html": [
              "<div>\n",
              "<style scoped>\n",
              "    .dataframe tbody tr th:only-of-type {\n",
              "        vertical-align: middle;\n",
              "    }\n",
              "\n",
              "    .dataframe tbody tr th {\n",
              "        vertical-align: top;\n",
              "    }\n",
              "\n",
              "    .dataframe thead th {\n",
              "        text-align: right;\n",
              "    }\n",
              "</style>\n",
              "<table border=\"1\" class=\"dataframe\">\n",
              "  <thead>\n",
              "    <tr style=\"text-align: right;\">\n",
              "      <th></th>\n",
              "      <th>_unit_id</th>\n",
              "      <th>gender</th>\n",
              "      <th>link_color</th>\n",
              "      <th>sidebar_color</th>\n",
              "      <th>tweet_count</th>\n",
              "      <th>all_text</th>\n",
              "    </tr>\n",
              "  </thead>\n",
              "  <tbody>\n",
              "    <tr>\n",
              "      <th>4</th>\n",
              "      <td>815719230</td>\n",
              "      <td>female</td>\n",
              "      <td>3B94D9</td>\n",
              "      <td>0</td>\n",
              "      <td>31462</td>\n",
              "      <td>watching neighbours on sky catching up with th...</td>\n",
              "    </tr>\n",
              "    <tr>\n",
              "      <th>5</th>\n",
              "      <td>815719231</td>\n",
              "      <td>female</td>\n",
              "      <td>F5ABB5</td>\n",
              "      <td>0</td>\n",
              "      <td>20036</td>\n",
              "      <td>ive seen people on the train with lamps chairs...</td>\n",
              "    </tr>\n",
              "    <tr>\n",
              "      <th>8</th>\n",
              "      <td>815719234</td>\n",
              "      <td>female</td>\n",
              "      <td>9266CC</td>\n",
              "      <td>0</td>\n",
              "      <td>482</td>\n",
              "      <td>at_the_rate _aphmau_ the pic defines all mcd ...</td>\n",
              "    </tr>\n",
              "  </tbody>\n",
              "</table>\n",
              "</div>"
            ],
            "text/plain": [
              "    _unit_id  ...                                           all_text\n",
              "4  815719230  ...  watching neighbours on sky catching up with th...\n",
              "5  815719231  ...  ive seen people on the train with lamps chairs...\n",
              "8  815719234  ...   at_the_rate _aphmau_ the pic defines all mcd ...\n",
              "\n",
              "[3 rows x 6 columns]"
            ]
          },
          "metadata": {
            "tags": []
          },
          "execution_count": 29
        }
      ]
    },
    {
      "cell_type": "code",
      "metadata": {
        "colab": {
          "base_uri": "https://localhost:8080/",
          "height": 206
        },
        "id": "vD6vjG-cjGk7",
        "outputId": "5e94be3b-85b2-4956-9a88-f72839ad7edc"
      },
      "source": [
        "df_male.head(5)"
      ],
      "execution_count": 30,
      "outputs": [
        {
          "output_type": "execute_result",
          "data": {
            "text/html": [
              "<div>\n",
              "<style scoped>\n",
              "    .dataframe tbody tr th:only-of-type {\n",
              "        vertical-align: middle;\n",
              "    }\n",
              "\n",
              "    .dataframe tbody tr th {\n",
              "        vertical-align: top;\n",
              "    }\n",
              "\n",
              "    .dataframe thead th {\n",
              "        text-align: right;\n",
              "    }\n",
              "</style>\n",
              "<table border=\"1\" class=\"dataframe\">\n",
              "  <thead>\n",
              "    <tr style=\"text-align: right;\">\n",
              "      <th></th>\n",
              "      <th>_unit_id</th>\n",
              "      <th>gender</th>\n",
              "      <th>link_color</th>\n",
              "      <th>sidebar_color</th>\n",
              "      <th>tweet_count</th>\n",
              "      <th>all_text</th>\n",
              "    </tr>\n",
              "  </thead>\n",
              "  <tbody>\n",
              "    <tr>\n",
              "      <th>0</th>\n",
              "      <td>815719226</td>\n",
              "      <td>male</td>\n",
              "      <td>08C2C2</td>\n",
              "      <td>FFFFFF</td>\n",
              "      <td>110964</td>\n",
              "      <td>robbie e responds to critics after win against...</td>\n",
              "    </tr>\n",
              "    <tr>\n",
              "      <th>1</th>\n",
              "      <td>815719227</td>\n",
              "      <td>male</td>\n",
              "      <td>0084B4</td>\n",
              "      <td>C0DEED</td>\n",
              "      <td>7471</td>\n",
              "      <td>ûïit felt like they were my friends and i was...</td>\n",
              "    </tr>\n",
              "    <tr>\n",
              "      <th>2</th>\n",
              "      <td>815719228</td>\n",
              "      <td>male</td>\n",
              "      <td>ABB8C2</td>\n",
              "      <td>C0DEED</td>\n",
              "      <td>5617</td>\n",
              "      <td>i absolutely adore when louis starts the songs...</td>\n",
              "    </tr>\n",
              "    <tr>\n",
              "      <th>3</th>\n",
              "      <td>815719229</td>\n",
              "      <td>male</td>\n",
              "      <td>0084B4</td>\n",
              "      <td>C0DEED</td>\n",
              "      <td>1693</td>\n",
              "      <td>hi jordanspieth looking at the url do you use ...</td>\n",
              "    </tr>\n",
              "    <tr>\n",
              "      <th>7</th>\n",
              "      <td>815719233</td>\n",
              "      <td>male</td>\n",
              "      <td>0000FF</td>\n",
              "      <td>C0DEED</td>\n",
              "      <td>112117</td>\n",
              "      <td>gala bingo clubs bought for å£241m the uk's la...</td>\n",
              "    </tr>\n",
              "  </tbody>\n",
              "</table>\n",
              "</div>"
            ],
            "text/plain": [
              "    _unit_id  ...                                           all_text\n",
              "0  815719226  ...  robbie e responds to critics after win against...\n",
              "1  815719227  ...  ûïit felt like they were my friends and i was...\n",
              "2  815719228  ...  i absolutely adore when louis starts the songs...\n",
              "3  815719229  ...  hi jordanspieth looking at the url do you use ...\n",
              "7  815719233  ...  gala bingo clubs bought for å£241m the uk's la...\n",
              "\n",
              "[5 rows x 6 columns]"
            ]
          },
          "metadata": {
            "tags": []
          },
          "execution_count": 30
        }
      ]
    },
    {
      "cell_type": "markdown",
      "metadata": {
        "id": "MSIcueL7jGk9"
      },
      "source": [
        "# Logistic Regression"
      ]
    },
    {
      "cell_type": "code",
      "metadata": {
        "id": "VWtHVMz6jGk9"
      },
      "source": [
        "le = LabelEncoder()"
      ],
      "execution_count": 31,
      "outputs": []
    },
    {
      "cell_type": "code",
      "metadata": {
        "id": "FrHy6q6UjGk9"
      },
      "source": [
        "df['Gender2'] = le.fit_transform(df['gender'].astype('str'))\n",
        "df['Linkcolor'] = le.fit_transform(df['link_color'].astype('str'))\n",
        "df['Text1'] = le.fit_transform(df['all_text'].astype('str'))\n",
        "df['Sidebar1'] = le.fit_transform(df['sidebar_color'].astype('str'))"
      ],
      "execution_count": 32,
      "outputs": []
    },
    {
      "cell_type": "code",
      "metadata": {
        "colab": {
          "base_uri": "https://localhost:8080/"
        },
        "id": "kDJohZ5TjGk-",
        "outputId": "65821b5e-4103-4159-c8c8-8445c8062c12"
      },
      "source": [
        "df.columns\n",
        "l=df['Text1']\n",
        "print(len(df))\n",
        "print(max(l))\n",
        "#print(l[1])"
      ],
      "execution_count": 36,
      "outputs": [
        {
          "output_type": "stream",
          "text": [
            "12859\n",
            "12720\n"
          ],
          "name": "stdout"
        }
      ]
    },
    {
      "cell_type": "code",
      "metadata": {
        "id": "oP2E94gfjGk-"
      },
      "source": [
        "from sklearn.linear_model import LogisticRegression"
      ],
      "execution_count": 37,
      "outputs": []
    },
    {
      "cell_type": "code",
      "metadata": {
        "id": "tveHShQvjGk-"
      },
      "source": [
        "LogReg = LogisticRegression()"
      ],
      "execution_count": 38,
      "outputs": []
    },
    {
      "cell_type": "code",
      "metadata": {
        "id": "DzZB3VQWjGk-"
      },
      "source": [
        "X = df[['tweet_count', 'Linkcolor', 'Text1', 'Sidebar1']].values"
      ],
      "execution_count": 39,
      "outputs": []
    },
    {
      "cell_type": "code",
      "metadata": {
        "id": "x9y3cj_EjGk-"
      },
      "source": [
        "Y = df[['Gender2']].values"
      ],
      "execution_count": 40,
      "outputs": []
    },
    {
      "cell_type": "code",
      "metadata": {
        "id": "cpU_GjtIjGk_"
      },
      "source": [
        "X_train, X_test, Y_train, Y_test = train_test_split(X,Y)"
      ],
      "execution_count": 41,
      "outputs": []
    },
    {
      "cell_type": "code",
      "metadata": {
        "colab": {
          "base_uri": "https://localhost:8080/"
        },
        "id": "xw0FYd9jjGk_",
        "outputId": "5f22b9a8-8560-477b-ec27-e06d2a054377"
      },
      "source": [
        "LogReg.fit(X_train, Y_train)"
      ],
      "execution_count": 42,
      "outputs": [
        {
          "output_type": "execute_result",
          "data": {
            "text/plain": [
              "LogisticRegression(C=1.0, class_weight=None, dual=False, fit_intercept=True,\n",
              "                   intercept_scaling=1, l1_ratio=None, max_iter=100,\n",
              "                   multi_class='auto', n_jobs=None, penalty='l2',\n",
              "                   random_state=None, solver='lbfgs', tol=0.0001, verbose=0,\n",
              "                   warm_start=False)"
            ]
          },
          "metadata": {
            "tags": []
          },
          "execution_count": 42
        }
      ]
    },
    {
      "cell_type": "code",
      "metadata": {
        "colab": {
          "base_uri": "https://localhost:8080/"
        },
        "id": "yp_l0yNTjGk_",
        "outputId": "8393c631-309f-4ec9-c237-c5801f55c02a"
      },
      "source": [
        "LogReg.score(X_test, Y_test)"
      ],
      "execution_count": 43,
      "outputs": [
        {
          "output_type": "execute_result",
          "data": {
            "text/plain": [
              "0.5670295489891135"
            ]
          },
          "metadata": {
            "tags": []
          },
          "execution_count": 43
        }
      ]
    },
    {
      "cell_type": "markdown",
      "metadata": {
        "id": "Dugth44cjGk_"
      },
      "source": [
        "# knn algorithm\n"
      ]
    },
    {
      "cell_type": "code",
      "metadata": {
        "colab": {
          "base_uri": "https://localhost:8080/"
        },
        "id": "C1XqWqz8jGlA",
        "outputId": "da130c7a-3c24-4f0a-df0e-ad937f4a4cd6"
      },
      "source": [
        "df.columns"
      ],
      "execution_count": 44,
      "outputs": [
        {
          "output_type": "execute_result",
          "data": {
            "text/plain": [
              "Index(['_unit_id', 'gender', 'link_color', 'sidebar_color', 'tweet_count',\n",
              "       'all_text', 'Gender2', 'Linkcolor', 'Text1', 'Sidebar1'],\n",
              "      dtype='object')"
            ]
          },
          "metadata": {
            "tags": []
          },
          "execution_count": 44
        }
      ]
    },
    {
      "cell_type": "code",
      "metadata": {
        "id": "C2hecIUjjGlA"
      },
      "source": [
        "C = df[['tweet_count', 'Linkcolor', 'Text1', 'Sidebar1']].values"
      ],
      "execution_count": 45,
      "outputs": []
    },
    {
      "cell_type": "code",
      "metadata": {
        "id": "p3nVO3S4jGlA"
      },
      "source": [
        "D = Y = df[['Gender2']].values"
      ],
      "execution_count": 46,
      "outputs": []
    },
    {
      "cell_type": "code",
      "metadata": {
        "id": "AixbqR3SjGlA"
      },
      "source": [
        "C_train, C_test, D_train, D_test = train_test_split(C,D)"
      ],
      "execution_count": 47,
      "outputs": []
    },
    {
      "cell_type": "code",
      "metadata": {
        "id": "3Ael6_8DjGlA"
      },
      "source": [
        "from sklearn.neighbors import KNeighborsClassifier"
      ],
      "execution_count": 48,
      "outputs": []
    },
    {
      "cell_type": "code",
      "metadata": {
        "id": "qHglQXN7jGlB"
      },
      "source": [
        "knn = KNeighborsClassifier()"
      ],
      "execution_count": 49,
      "outputs": []
    },
    {
      "cell_type": "code",
      "metadata": {
        "colab": {
          "base_uri": "https://localhost:8080/"
        },
        "id": "lMtN3vT4jGlB",
        "outputId": "df9fc89c-af6e-4572-e1e4-f09c216cec55"
      },
      "source": [
        "knn.fit(C_train, D_train)"
      ],
      "execution_count": 50,
      "outputs": [
        {
          "output_type": "execute_result",
          "data": {
            "text/plain": [
              "KNeighborsClassifier(algorithm='auto', leaf_size=30, metric='minkowski',\n",
              "                     metric_params=None, n_jobs=None, n_neighbors=5, p=2,\n",
              "                     weights='uniform')"
            ]
          },
          "metadata": {
            "tags": []
          },
          "execution_count": 50
        }
      ]
    },
    {
      "cell_type": "code",
      "metadata": {
        "id": "YErIdpY5jGlB"
      },
      "source": [
        "d_pred = knn.predict(C_test)"
      ],
      "execution_count": 51,
      "outputs": []
    },
    {
      "cell_type": "code",
      "metadata": {
        "id": "mrE06LZhjGlB"
      },
      "source": [
        "from sklearn.metrics import accuracy_score"
      ],
      "execution_count": 52,
      "outputs": []
    },
    {
      "cell_type": "code",
      "metadata": {
        "colab": {
          "base_uri": "https://localhost:8080/"
        },
        "id": "JbWqXcyHjGlB",
        "outputId": "4fada76c-39c9-4a5b-eb3f-e301034905b2"
      },
      "source": [
        "accuracy_score(D_test,d_pred)"
      ],
      "execution_count": 53,
      "outputs": [
        {
          "output_type": "execute_result",
          "data": {
            "text/plain": [
              "0.5548989113530327"
            ]
          },
          "metadata": {
            "tags": []
          },
          "execution_count": 53
        }
      ]
    },
    {
      "cell_type": "code",
      "metadata": {
        "id": "jnclin8qjGlC"
      },
      "source": [
        "#create a dictionary of all values we want to test for n_neighbors\n",
        "params_knn={'n_neighbors':np.arange(1,25)}"
      ],
      "execution_count": 54,
      "outputs": []
    },
    {
      "cell_type": "code",
      "metadata": {
        "id": "Lje9DBrajGlC"
      },
      "source": [
        "from sklearn.model_selection import GridSearchCV"
      ],
      "execution_count": 55,
      "outputs": []
    },
    {
      "cell_type": "code",
      "metadata": {
        "id": "YSeHO0r2jGlC"
      },
      "source": [
        "#use gridsearch to test all values for n_neighbors\n",
        "knn_gs=GridSearchCV(knn, params_knn, cv=5)"
      ],
      "execution_count": 56,
      "outputs": []
    },
    {
      "cell_type": "code",
      "metadata": {
        "colab": {
          "base_uri": "https://localhost:8080/"
        },
        "id": "p4PJAGuMjGlC",
        "outputId": "420055f4-f4b5-44f4-d7ee-e16c74547a6f"
      },
      "source": [
        "#fit model to training data\n",
        "knn_gs.fit(C_train,D_train)"
      ],
      "execution_count": 57,
      "outputs": [
        {
          "output_type": "execute_result",
          "data": {
            "text/plain": [
              "GridSearchCV(cv=5, error_score=nan,\n",
              "             estimator=KNeighborsClassifier(algorithm='auto', leaf_size=30,\n",
              "                                            metric='minkowski',\n",
              "                                            metric_params=None, n_jobs=None,\n",
              "                                            n_neighbors=5, p=2,\n",
              "                                            weights='uniform'),\n",
              "             iid='deprecated', n_jobs=None,\n",
              "             param_grid={'n_neighbors': array([ 1,  2,  3,  4,  5,  6,  7,  8,  9, 10, 11, 12, 13, 14, 15, 16, 17,\n",
              "       18, 19, 20, 21, 22, 23, 24])},\n",
              "             pre_dispatch='2*n_jobs', refit=True, return_train_score=False,\n",
              "             scoring=None, verbose=0)"
            ]
          },
          "metadata": {
            "tags": []
          },
          "execution_count": 57
        }
      ]
    },
    {
      "cell_type": "code",
      "metadata": {
        "id": "wIURdqgLjGlC"
      },
      "source": [
        "#save best model\n",
        "knn_best=knn_gs.best_estimator_"
      ],
      "execution_count": 58,
      "outputs": []
    },
    {
      "cell_type": "code",
      "metadata": {
        "colab": {
          "base_uri": "https://localhost:8080/"
        },
        "id": "3z2iVx_bjGlC",
        "outputId": "70c26454-a70e-4d7f-8ebf-ddd67b420d55"
      },
      "source": [
        "print(knn_gs.best_params_)"
      ],
      "execution_count": 59,
      "outputs": [
        {
          "output_type": "stream",
          "text": [
            "{'n_neighbors': 15}\n"
          ],
          "name": "stdout"
        }
      ]
    },
    {
      "cell_type": "markdown",
      "metadata": {
        "id": "HtW9RSiEjGlD"
      },
      "source": [
        "# Random Forest"
      ]
    },
    {
      "cell_type": "code",
      "metadata": {
        "id": "rVUj8WzWjGlD"
      },
      "source": [
        "from sklearn.ensemble import RandomForestClassifier"
      ],
      "execution_count": 60,
      "outputs": []
    },
    {
      "cell_type": "code",
      "metadata": {
        "colab": {
          "base_uri": "https://localhost:8080/",
          "height": 466
        },
        "id": "o03uTF2sjGlD",
        "outputId": "2b8f5ebc-6e4f-4af7-dd2f-c4c377fb3ffb"
      },
      "source": [
        "df.head()"
      ],
      "execution_count": 61,
      "outputs": [
        {
          "output_type": "execute_result",
          "data": {
            "text/html": [
              "<div>\n",
              "<style scoped>\n",
              "    .dataframe tbody tr th:only-of-type {\n",
              "        vertical-align: middle;\n",
              "    }\n",
              "\n",
              "    .dataframe tbody tr th {\n",
              "        vertical-align: top;\n",
              "    }\n",
              "\n",
              "    .dataframe thead th {\n",
              "        text-align: right;\n",
              "    }\n",
              "</style>\n",
              "<table border=\"1\" class=\"dataframe\">\n",
              "  <thead>\n",
              "    <tr style=\"text-align: right;\">\n",
              "      <th></th>\n",
              "      <th>_unit_id</th>\n",
              "      <th>gender</th>\n",
              "      <th>link_color</th>\n",
              "      <th>sidebar_color</th>\n",
              "      <th>tweet_count</th>\n",
              "      <th>all_text</th>\n",
              "      <th>Gender2</th>\n",
              "      <th>Linkcolor</th>\n",
              "      <th>Text1</th>\n",
              "      <th>Sidebar1</th>\n",
              "    </tr>\n",
              "  </thead>\n",
              "  <tbody>\n",
              "    <tr>\n",
              "      <th>0</th>\n",
              "      <td>815719226</td>\n",
              "      <td>male</td>\n",
              "      <td>08C2C2</td>\n",
              "      <td>FFFFFF</td>\n",
              "      <td>110964</td>\n",
              "      <td>robbie e responds to critics after win against...</td>\n",
              "      <td>1</td>\n",
              "      <td>165</td>\n",
              "      <td>10052</td>\n",
              "      <td>407</td>\n",
              "    </tr>\n",
              "    <tr>\n",
              "      <th>1</th>\n",
              "      <td>815719227</td>\n",
              "      <td>male</td>\n",
              "      <td>0084B4</td>\n",
              "      <td>C0DEED</td>\n",
              "      <td>7471</td>\n",
              "      <td>ûïit felt like they were my friends and i was...</td>\n",
              "      <td>1</td>\n",
              "      <td>51</td>\n",
              "      <td>12697</td>\n",
              "      <td>261</td>\n",
              "    </tr>\n",
              "    <tr>\n",
              "      <th>2</th>\n",
              "      <td>815719228</td>\n",
              "      <td>male</td>\n",
              "      <td>ABB8C2</td>\n",
              "      <td>C0DEED</td>\n",
              "      <td>5617</td>\n",
              "      <td>i absolutely adore when louis starts the songs...</td>\n",
              "      <td>1</td>\n",
              "      <td>1386</td>\n",
              "      <td>6761</td>\n",
              "      <td>261</td>\n",
              "    </tr>\n",
              "    <tr>\n",
              "      <th>3</th>\n",
              "      <td>815719229</td>\n",
              "      <td>male</td>\n",
              "      <td>0084B4</td>\n",
              "      <td>C0DEED</td>\n",
              "      <td>1693</td>\n",
              "      <td>hi jordanspieth looking at the url do you use ...</td>\n",
              "      <td>1</td>\n",
              "      <td>51</td>\n",
              "      <td>6541</td>\n",
              "      <td>261</td>\n",
              "    </tr>\n",
              "    <tr>\n",
              "      <th>4</th>\n",
              "      <td>815719230</td>\n",
              "      <td>female</td>\n",
              "      <td>3B94D9</td>\n",
              "      <td>0</td>\n",
              "      <td>31462</td>\n",
              "      <td>watching neighbours on sky catching up with th...</td>\n",
              "      <td>0</td>\n",
              "      <td>688</td>\n",
              "      <td>11869</td>\n",
              "      <td>0</td>\n",
              "    </tr>\n",
              "  </tbody>\n",
              "</table>\n",
              "</div>"
            ],
            "text/plain": [
              "    _unit_id  gender link_color  ... Linkcolor  Text1 Sidebar1\n",
              "0  815719226    male     08C2C2  ...       165  10052      407\n",
              "1  815719227    male     0084B4  ...        51  12697      261\n",
              "2  815719228    male     ABB8C2  ...      1386   6761      261\n",
              "3  815719229    male     0084B4  ...        51   6541      261\n",
              "4  815719230  female     3B94D9  ...       688  11869        0\n",
              "\n",
              "[5 rows x 10 columns]"
            ]
          },
          "metadata": {
            "tags": []
          },
          "execution_count": 61
        }
      ]
    },
    {
      "cell_type": "code",
      "metadata": {
        "id": "oEeSdvmcjGlD"
      },
      "source": [
        "X = df[['tweet_count', 'Linkcolor', 'Text1', 'Sidebar1']].values"
      ],
      "execution_count": 62,
      "outputs": []
    },
    {
      "cell_type": "code",
      "metadata": {
        "id": "iqsl1Oy2jGlD"
      },
      "source": [
        "Y = df[['Gender2']].values"
      ],
      "execution_count": 63,
      "outputs": []
    },
    {
      "cell_type": "code",
      "metadata": {
        "id": "048IoFpSjGlE"
      },
      "source": [
        "X_train, X_test, Y_train, Y_test = train_test_split(X,Y)"
      ],
      "execution_count": 64,
      "outputs": []
    },
    {
      "cell_type": "code",
      "metadata": {
        "colab": {
          "base_uri": "https://localhost:8080/"
        },
        "id": "d-yPlI4xjGlE",
        "outputId": "75509501-8e7b-4ebf-fea1-fb68aee066c8"
      },
      "source": [
        "X_train.shape, X_test.shape, Y_train.shape, Y_test.shape"
      ],
      "execution_count": 65,
      "outputs": [
        {
          "output_type": "execute_result",
          "data": {
            "text/plain": [
              "((9644, 4), (3215, 4), (9644, 1), (3215, 1))"
            ]
          },
          "metadata": {
            "tags": []
          },
          "execution_count": 65
        }
      ]
    },
    {
      "cell_type": "code",
      "metadata": {
        "id": "XB0c_VghjGlE"
      },
      "source": [
        "rfc = RandomForestClassifier(n_estimators=200)"
      ],
      "execution_count": 66,
      "outputs": []
    },
    {
      "cell_type": "code",
      "metadata": {
        "colab": {
          "base_uri": "https://localhost:8080/"
        },
        "id": "eaNPde2rjGlE",
        "outputId": "a63d8574-7ec8-4d50-9927-d30489018968"
      },
      "source": [
        "rfc.fit(X_train, Y_train)"
      ],
      "execution_count": 67,
      "outputs": [
        {
          "output_type": "execute_result",
          "data": {
            "text/plain": [
              "RandomForestClassifier(bootstrap=True, ccp_alpha=0.0, class_weight=None,\n",
              "                       criterion='gini', max_depth=None, max_features='auto',\n",
              "                       max_leaf_nodes=None, max_samples=None,\n",
              "                       min_impurity_decrease=0.0, min_impurity_split=None,\n",
              "                       min_samples_leaf=1, min_samples_split=2,\n",
              "                       min_weight_fraction_leaf=0.0, n_estimators=200,\n",
              "                       n_jobs=None, oob_score=False, random_state=None,\n",
              "                       verbose=0, warm_start=False)"
            ]
          },
          "metadata": {
            "tags": []
          },
          "execution_count": 67
        }
      ]
    },
    {
      "cell_type": "code",
      "metadata": {
        "id": "PkwGwPdYjGlE"
      },
      "source": [
        "rfc_predicted = rfc.predict(X_test)"
      ],
      "execution_count": 68,
      "outputs": []
    },
    {
      "cell_type": "code",
      "metadata": {
        "id": "70D1Px6RjGlE"
      },
      "source": [
        "from sklearn.metrics import accuracy_score"
      ],
      "execution_count": 69,
      "outputs": []
    },
    {
      "cell_type": "code",
      "metadata": {
        "colab": {
          "base_uri": "https://localhost:8080/"
        },
        "id": "0YfXb7WRjGlF",
        "outputId": "7428b02b-c9c5-4e72-9aa8-04979ee98101"
      },
      "source": [
        "accuracy_score(rfc_predicted, Y_test)"
      ],
      "execution_count": 70,
      "outputs": [
        {
          "output_type": "execute_result",
          "data": {
            "text/plain": [
              "0.6015552099533437"
            ]
          },
          "metadata": {
            "tags": []
          },
          "execution_count": 70
        }
      ]
    },
    {
      "cell_type": "code",
      "metadata": {
        "id": "vyv5Z3NtjGlF"
      },
      "source": [
        "#create dictionary of all values we want test for n_estimators\n",
        "params_rf={'n_estimators': [50, 100, 200]}"
      ],
      "execution_count": 71,
      "outputs": []
    },
    {
      "cell_type": "code",
      "metadata": {
        "id": "fCIsKiS4jGlF"
      },
      "source": [
        "from sklearn.model_selection import GridSearchCV"
      ],
      "execution_count": 72,
      "outputs": []
    },
    {
      "cell_type": "code",
      "metadata": {
        "id": "MlQ4vWumjGlF"
      },
      "source": [
        "rf_gs=GridSearchCV(rfc, params_rf, cv=5)"
      ],
      "execution_count": 73,
      "outputs": []
    },
    {
      "cell_type": "code",
      "metadata": {
        "colab": {
          "base_uri": "https://localhost:8080/"
        },
        "id": "gIVw5G6FjGlF",
        "outputId": "a3089bd0-025b-4743-d04d-a74c3b9eea30"
      },
      "source": [
        "#fit model to training data\n",
        "rf_gs.fit(X_train, Y_train)"
      ],
      "execution_count": 74,
      "outputs": [
        {
          "output_type": "execute_result",
          "data": {
            "text/plain": [
              "GridSearchCV(cv=5, error_score=nan,\n",
              "             estimator=RandomForestClassifier(bootstrap=True, ccp_alpha=0.0,\n",
              "                                              class_weight=None,\n",
              "                                              criterion='gini', max_depth=None,\n",
              "                                              max_features='auto',\n",
              "                                              max_leaf_nodes=None,\n",
              "                                              max_samples=None,\n",
              "                                              min_impurity_decrease=0.0,\n",
              "                                              min_impurity_split=None,\n",
              "                                              min_samples_leaf=1,\n",
              "                                              min_samples_split=2,\n",
              "                                              min_weight_fraction_leaf=0.0,\n",
              "                                              n_estimators=200, n_jobs=None,\n",
              "                                              oob_score=False,\n",
              "                                              random_state=None, verbose=0,\n",
              "                                              warm_start=False),\n",
              "             iid='deprecated', n_jobs=None,\n",
              "             param_grid={'n_estimators': [50, 100, 200]},\n",
              "             pre_dispatch='2*n_jobs', refit=True, return_train_score=False,\n",
              "             scoring=None, verbose=0)"
            ]
          },
          "metadata": {
            "tags": []
          },
          "execution_count": 74
        }
      ]
    },
    {
      "cell_type": "code",
      "metadata": {
        "id": "NKrFnX8jjGlF"
      },
      "source": [
        "rf_best=rf_gs.best_estimator_"
      ],
      "execution_count": 75,
      "outputs": []
    },
    {
      "cell_type": "code",
      "metadata": {
        "colab": {
          "base_uri": "https://localhost:8080/"
        },
        "id": "SzLC_9XkjGlG",
        "outputId": "f10e22dd-8f9c-4ea5-f442-82ae043aeef8"
      },
      "source": [
        "print(rf_gs.best_params_)"
      ],
      "execution_count": 76,
      "outputs": [
        {
          "output_type": "stream",
          "text": [
            "{'n_estimators': 200}\n"
          ],
          "name": "stdout"
        }
      ]
    },
    {
      "cell_type": "markdown",
      "metadata": {
        "id": "vsV9gxgwjGlG"
      },
      "source": [
        "# SVM"
      ]
    },
    {
      "cell_type": "code",
      "metadata": {
        "id": "XbbjyOoUjGlG"
      },
      "source": [
        "A = df[['tweet_count', 'Linkcolor', 'Text1', 'Sidebar1']].values"
      ],
      "execution_count": 77,
      "outputs": []
    },
    {
      "cell_type": "code",
      "metadata": {
        "id": "wQkg9xI9jGlG"
      },
      "source": [
        "B = df[['Gender2']].values"
      ],
      "execution_count": 78,
      "outputs": []
    },
    {
      "cell_type": "code",
      "metadata": {
        "id": "t8HeHAGxjGlG"
      },
      "source": [
        "A_train, A_test, B_train, B_test = train_test_split(A,B)"
      ],
      "execution_count": 79,
      "outputs": []
    },
    {
      "cell_type": "code",
      "metadata": {
        "id": "DgNPif3njGlG"
      },
      "source": [
        "from sklearn.svm import SVC"
      ],
      "execution_count": 80,
      "outputs": []
    },
    {
      "cell_type": "code",
      "metadata": {
        "id": "g4pg8v8bjGlG"
      },
      "source": [
        "svc = SVC()"
      ],
      "execution_count": 81,
      "outputs": []
    },
    {
      "cell_type": "code",
      "metadata": {
        "colab": {
          "base_uri": "https://localhost:8080/"
        },
        "id": "UXY48gpfjGlH",
        "outputId": "d8c5bdd9-ae2b-4a7b-a351-de7e1bd235ff"
      },
      "source": [
        "svc.fit(A_train , B_train)"
      ],
      "execution_count": 82,
      "outputs": [
        {
          "output_type": "execute_result",
          "data": {
            "text/plain": [
              "SVC(C=1.0, break_ties=False, cache_size=200, class_weight=None, coef0=0.0,\n",
              "    decision_function_shape='ovr', degree=3, gamma='scale', kernel='rbf',\n",
              "    max_iter=-1, probability=False, random_state=None, shrinking=True,\n",
              "    tol=0.001, verbose=False)"
            ]
          },
          "metadata": {
            "tags": []
          },
          "execution_count": 82
        }
      ]
    },
    {
      "cell_type": "code",
      "metadata": {
        "id": "Xb_cabCHjGlH"
      },
      "source": [
        "svc_predicted = svc.predict(A_test)"
      ],
      "execution_count": 83,
      "outputs": []
    },
    {
      "cell_type": "code",
      "metadata": {
        "colab": {
          "base_uri": "https://localhost:8080/"
        },
        "id": "VggLedfHjGlH",
        "outputId": "d3bb6ab0-f2d1-43d7-ec11-889b9e74a2fd"
      },
      "source": [
        "accuracy_score(svc_predicted, B_test)"
      ],
      "execution_count": 84,
      "outputs": [
        {
          "output_type": "execute_result",
          "data": {
            "text/plain": [
              "0.573561430793157"
            ]
          },
          "metadata": {
            "tags": []
          },
          "execution_count": 84
        }
      ]
    },
    {
      "cell_type": "code",
      "metadata": {
        "colab": {
          "base_uri": "https://localhost:8080/"
        },
        "id": "eo_igoxIjGlH",
        "outputId": "86f7a794-2a94-4fe5-cf98-269973a8af00"
      },
      "source": [
        "#test the three models with the test data and print their accuracy scores\n",
        "print('knn:{}'.format(knn_best.score(C_test,D_test)))\n",
        "print('rfc:{}'.format(rf_best.score(X_test,Y_test)))\n",
        "print('log_reg:{}'.format(LogReg.score(X_test,Y_test)))"
      ],
      "execution_count": 85,
      "outputs": [
        {
          "output_type": "stream",
          "text": [
            "knn:0.5648522550544324\n",
            "rfc:0.5940902021772939\n",
            "log_reg:0.5710730948678071\n"
          ],
          "name": "stdout"
        }
      ]
    },
    {
      "cell_type": "code",
      "metadata": {
        "id": "tw9-1FqEjGlH"
      },
      "source": [
        "from sklearn.ensemble import VotingClassifier"
      ],
      "execution_count": 86,
      "outputs": []
    },
    {
      "cell_type": "code",
      "metadata": {
        "id": "S7TwhfOvjGlH"
      },
      "source": [
        "#create a dictionary of our models\n",
        "estimators=[('knn', knn_best), ('rfc', rf_best), ('LogReg', LogReg)]"
      ],
      "execution_count": 87,
      "outputs": []
    },
    {
      "cell_type": "code",
      "metadata": {
        "id": "ofVcneJMjGlI"
      },
      "source": [
        "#create our voting classifier,inputting our models\n",
        "ensemble=VotingClassifier(estimators,voting='hard')"
      ],
      "execution_count": 88,
      "outputs": []
    },
    {
      "cell_type": "code",
      "metadata": {
        "colab": {
          "base_uri": "https://localhost:8080/"
        },
        "id": "MSoScjALjGlI",
        "outputId": "4e3ea95e-b0d5-4d76-ca39-efe234207385"
      },
      "source": [
        "#fit model to training data\n",
        "ensemble.fit(X_train,Y_train)"
      ],
      "execution_count": 89,
      "outputs": [
        {
          "output_type": "execute_result",
          "data": {
            "text/plain": [
              "VotingClassifier(estimators=[('knn',\n",
              "                              KNeighborsClassifier(algorithm='auto',\n",
              "                                                   leaf_size=30,\n",
              "                                                   metric='minkowski',\n",
              "                                                   metric_params=None,\n",
              "                                                   n_jobs=None, n_neighbors=15,\n",
              "                                                   p=2, weights='uniform')),\n",
              "                             ('rfc',\n",
              "                              RandomForestClassifier(bootstrap=True,\n",
              "                                                     ccp_alpha=0.0,\n",
              "                                                     class_weight=None,\n",
              "                                                     criterion='gini',\n",
              "                                                     max_depth=None,\n",
              "                                                     max_features='auto',\n",
              "                                                     max_leaf_nodes=None,\n",
              "                                                     max_samples=None,\n",
              "                                                     min_impu...\n",
              "                                                     random_state=None,\n",
              "                                                     verbose=0,\n",
              "                                                     warm_start=False)),\n",
              "                             ('LogReg',\n",
              "                              LogisticRegression(C=1.0, class_weight=None,\n",
              "                                                 dual=False, fit_intercept=True,\n",
              "                                                 intercept_scaling=1,\n",
              "                                                 l1_ratio=None, max_iter=100,\n",
              "                                                 multi_class='auto',\n",
              "                                                 n_jobs=None, penalty='l2',\n",
              "                                                 random_state=None,\n",
              "                                                 solver='lbfgs', tol=0.0001,\n",
              "                                                 verbose=0,\n",
              "                                                 warm_start=False))],\n",
              "                 flatten_transform=True, n_jobs=None, voting='hard',\n",
              "                 weights=None)"
            ]
          },
          "metadata": {
            "tags": []
          },
          "execution_count": 89
        }
      ]
    },
    {
      "cell_type": "code",
      "metadata": {
        "colab": {
          "base_uri": "https://localhost:8080/"
        },
        "id": "DmxyvibdjGlI",
        "outputId": "188d3fba-2fa7-474a-fde4-382361750914"
      },
      "source": [
        "#test our model on the test data\n",
        "ensemble.score(X_test,Y_test)"
      ],
      "execution_count": 90,
      "outputs": [
        {
          "output_type": "execute_result",
          "data": {
            "text/plain": [
              "0.5779160186625194"
            ]
          },
          "metadata": {
            "tags": []
          },
          "execution_count": 90
        }
      ]
    },
    {
      "cell_type": "code",
      "metadata": {
        "id": "hfM5mr-qjGlI"
      },
      "source": [
        ""
      ],
      "execution_count": null,
      "outputs": []
    }
  ]
}